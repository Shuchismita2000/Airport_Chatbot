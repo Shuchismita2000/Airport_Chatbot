{
 "cells": [
  {
   "cell_type": "code",
   "execution_count": 1,
   "metadata": {},
   "outputs": [
    {
     "name": "stderr",
     "output_type": "stream",
     "text": [
      "c:\\Users\\SHUCHISMITA MALLICK\\anaconda3\\envs\\mygitenv\\lib\\site-packages\\tqdm\\auto.py:21: TqdmWarning: IProgress not found. Please update jupyter and ipywidgets. See https://ipywidgets.readthedocs.io/en/stable/user_install.html\n",
      "  from .autonotebook import tqdm as notebook_tqdm\n"
     ]
    },
    {
     "name": "stdout",
     "output_type": "stream",
     "text": [
      "\n",
      "Query: What attractions are available at Jewel Changi Airport?\n",
      "- Enjoy 3 months of unlimited fun at Jewel Changi Airport’s attractions (Category: Attractions)\n",
      "- WELCOME TO JEWEL CHANGI AIRPORT (Category: Transportation)\n",
      "- Fact Sheet: Gardens at Jewel Changi Airport (Category: Transportation)\n",
      "- Attractions Attractions Jewel-rassic Quest Walking Net Walking Net - Jewel Changi Airport Bouncing Net Bouncing Net - Jewel Changi Airport Mirror Maze Mirror Maze - Jewel Changi Airport Hedge Maze Hedge Maze - Jewel Changi Airport Mastercard® Canopy Bridge Mastercard® Canopy Bridge - Jewel Changi Airport Discovery Slides Discovery Slides - Jewel Changi Airport Changi Experience Studio Changi Experience Studio - Jewel Changi Airport Jewel Rain Vortex Jewel Rain Vortex - Jewel Changi Airport Canopy Park Canopy Park - Jewel Changi Airport Shiseido Forest Valley Shiseido Forest Valley - Jewel Changi Airport Foggy Bowls Foggy Bowls - Jewel Changi Airport (Category: Attractions)\n",
      "- Visit and spend at participating outlets in Changi Airport and Jewel Changi Airport. ​ (Category: Transportation)\n",
      "\n",
      "Query: Is there a free tour at Changi Airport?\n",
      "- Experience Changi Airport Tours: Uncover Airport Wonders (Category: Attractions)\n",
      "- If your organisation is from outside Singapore and you are interested to tour Changi Airport, customised tours can be arranged. Please email us at cmc@changiairport.com (Category: Attractions)\n",
      "- Visitors will get a chance to learn about Changi’s people, operations, developments and more in Changi’s very own Airport Tours! (Category: Attractions)\n",
      "- H1: Experience Changi Airport Tours: Uncover Airport Wonders (Category: Attractions)\n",
      "- Changi Airport website (Category: Transportation)\n",
      "\n",
      "Query: Tell me about parking options at Changi Airport.\n",
      "- Enjoy exclusive parking promotions and preferential rates on Changi App! (Category: Attractions)\n",
      "- Changi Rewards Parking: Free Parking & Discounts (Category: Attractions)\n",
      "- All year-round complimentary parking across Changi Airport Terminals and Jewel carparks with selected reserved Monarch carpark lots (Category: Attractions)\n",
      "- Join Changi Airport’s very first eat-a-thon and enjoy free parking for the whole year. (Category: Attractions)\n",
      "- Seasonal parking services are available in Changi Airport and Changi Airfreight Centre. For information on application procedures for Changi Airport, please email Wilson Parking (S) Pte Ltd at park@wilsonparking.com.sg (Category: Attractions)\n"
     ]
    }
   ],
   "source": [
    "import faiss\n",
    "import json\n",
    "from sentence_transformers import SentenceTransformer\n",
    "\n",
    "# Load FAISS index and metadata\n",
    "index_file = r\"D:\\Portfolio Github\\Airport_Chatbot\\data\\vector_index.faiss\"  # Path to the saved FAISS index file\n",
    "metadata_file = r\"D:\\Portfolio Github\\Airport_Chatbot\\data\\metadata.json\"  # Path to the metadata JSON file\n",
    "\n",
    "# Load the FAISS index into memory\n",
    "index = faiss.read_index(index_file)\n",
    "\n",
    "# Load the metadata that maps embeddings to text and categories\n",
    "with open(metadata_file, 'r', encoding='utf-8') as f:\n",
    "    metadata = json.load(f)\n",
    "\n",
    "# Load the embedding model\n",
    "model = SentenceTransformer('all-MiniLM-L6-v2')  # Ensure the same model is used as during embedding creation\n",
    "\n",
    "# Query FAISS index\n",
    "def query_faiss(question, top_k=5):\n",
    "    \"\"\"\n",
    "    Searches the FAISS index for the closest matches to a query.\n",
    "\n",
    "    Parameters:\n",
    "        question (str): The user's query in natural language.\n",
    "        top_k (int): Number of closest matches to retrieve.\n",
    "    \n",
    "    Returns:\n",
    "        list: A list of results containing text and category information.\n",
    "    \"\"\"\n",
    "    # Generate an embedding for the query using the same model\n",
    "    question_embedding = model.encode([question])\n",
    "\n",
    "    # Search the FAISS index for the top_k closest embeddings\n",
    "    distances, indices = index.search(question_embedding, top_k)\n",
    "\n",
    "    # Retrieve the matching results from metadata\n",
    "    results = []\n",
    "    for idx in indices[0]:\n",
    "        if idx < len(metadata):  # Ensure the index is within metadata bounds\n",
    "            results.append(metadata[idx])\n",
    "    return results\n",
    "\n",
    "# Example queries to test the FAISS search\n",
    "queries = [\n",
    "    \"What attractions are available at Jewel Changi Airport?\",\n",
    "    \"Is there a free tour at Changi Airport?\",\n",
    "    \"Tell me about parking options at Changi Airport.\"\n",
    "]\n",
    "\n",
    "# Execute each query and print the results\n",
    "for query in queries:\n",
    "    print(f\"\\nQuery: {query}\")\n",
    "    results = query_faiss(query)  # Get results for the query\n",
    "    for result in results:\n",
    "        print(f\"- {result['text']} (Category: {result['category']})\")\n"
   ]
  }
 ],
 "metadata": {
  "kernelspec": {
   "display_name": "mygitenv",
   "language": "python",
   "name": "python3"
  },
  "language_info": {
   "codemirror_mode": {
    "name": "ipython",
    "version": 3
   },
   "file_extension": ".py",
   "mimetype": "text/x-python",
   "name": "python",
   "nbconvert_exporter": "python",
   "pygments_lexer": "ipython3",
   "version": "3.10.14"
  }
 },
 "nbformat": 4,
 "nbformat_minor": 2
}
